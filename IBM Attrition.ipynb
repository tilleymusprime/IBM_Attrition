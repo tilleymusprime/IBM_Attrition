{
 "cells": [
  {
   "cell_type": "code",
   "execution_count": 1,
   "metadata": {},
   "outputs": [],
   "source": [
    "import pandas as pd\n",
    "import numpy as np\n",
    "import matplotlib.pyplot as plt\n",
    "from random import sample\n",
    "\n",
    "from sklearn.model_selection import train_test_split\n",
    "from sklearn.ensemble import RandomForestClassifier\n",
    "from sklearn import metrics"
   ]
  },
  {
   "cell_type": "code",
   "execution_count": 2,
   "metadata": {},
   "outputs": [],
   "source": [
    "###The goal of this project is to determine what characteristics are most important for employee retention.\n",
    "# To accomplish this goal, we will use random forest modeling to check for feature importance and we will also use\n",
    "#correlation.\n"
   ]
  },
  {
   "cell_type": "code",
   "execution_count": 3,
   "metadata": {},
   "outputs": [],
   "source": [
    "df = pd.read_csv('C:\\\\USers\\\\tilleymusprime\\\\Desktop\\\\WA_Fn-UseC_-HR-Employee-Attrition.csv')"
   ]
  },
  {
   "cell_type": "code",
   "execution_count": 4,
   "metadata": {},
   "outputs": [
    {
     "data": {
      "text/plain": [
       "(1470, 35)"
      ]
     },
     "execution_count": 4,
     "metadata": {},
     "output_type": "execute_result"
    }
   ],
   "source": [
    "df.shape"
   ]
  },
  {
   "cell_type": "code",
   "execution_count": 5,
   "metadata": {},
   "outputs": [
    {
     "data": {
      "text/plain": [
       "Age                         0\n",
       "Attrition                   0\n",
       "BusinessTravel              0\n",
       "DailyRate                   0\n",
       "Department                  0\n",
       "DistanceFromHome            0\n",
       "Education                   0\n",
       "EducationField              0\n",
       "EmployeeCount               0\n",
       "EmployeeNumber              0\n",
       "EnvironmentSatisfaction     0\n",
       "Gender                      0\n",
       "HourlyRate                  0\n",
       "JobInvolvement              0\n",
       "JobLevel                    0\n",
       "JobRole                     0\n",
       "JobSatisfaction             0\n",
       "MaritalStatus               0\n",
       "MonthlyIncome               0\n",
       "MonthlyRate                 0\n",
       "NumCompaniesWorked          0\n",
       "Over18                      0\n",
       "OverTime                    0\n",
       "PercentSalaryHike           0\n",
       "PerformanceRating           0\n",
       "RelationshipSatisfaction    0\n",
       "StandardHours               0\n",
       "StockOptionLevel            0\n",
       "TotalWorkingYears           0\n",
       "TrainingTimesLastYear       0\n",
       "WorkLifeBalance             0\n",
       "YearsAtCompany              0\n",
       "YearsInCurrentRole          0\n",
       "YearsSinceLastPromotion     0\n",
       "YearsWithCurrManager        0\n",
       "dtype: int64"
      ]
     },
     "execution_count": 5,
     "metadata": {},
     "output_type": "execute_result"
    }
   ],
   "source": [
    "df.isnull().sum()\n",
    "#It looks like there aren't any missing values in the data"
   ]
  },
  {
   "cell_type": "code",
   "execution_count": 6,
   "metadata": {},
   "outputs": [],
   "source": [
    "df = pd.get_dummies(df)\n",
    "#To get this data into modeling format, we will split all of the columns that contain categorical data into 1's and 0's"
   ]
  },
  {
   "cell_type": "code",
   "execution_count": 7,
   "metadata": {},
   "outputs": [
    {
     "data": {
      "text/plain": [
       "Index(['Age', 'DailyRate', 'DistanceFromHome', 'Education', 'EmployeeCount',\n",
       "       'EmployeeNumber', 'EnvironmentSatisfaction', 'HourlyRate',\n",
       "       'JobInvolvement', 'JobLevel', 'JobSatisfaction', 'MonthlyIncome',\n",
       "       'MonthlyRate', 'NumCompaniesWorked', 'PercentSalaryHike',\n",
       "       'PerformanceRating', 'RelationshipSatisfaction', 'StandardHours',\n",
       "       'StockOptionLevel', 'TotalWorkingYears', 'TrainingTimesLastYear',\n",
       "       'WorkLifeBalance', 'YearsAtCompany', 'YearsInCurrentRole',\n",
       "       'YearsSinceLastPromotion', 'YearsWithCurrManager', 'Attrition_No',\n",
       "       'Attrition_Yes', 'BusinessTravel_Non-Travel',\n",
       "       'BusinessTravel_Travel_Frequently', 'BusinessTravel_Travel_Rarely',\n",
       "       'Department_Human Resources', 'Department_Research & Development',\n",
       "       'Department_Sales', 'EducationField_Human Resources',\n",
       "       'EducationField_Life Sciences', 'EducationField_Marketing',\n",
       "       'EducationField_Medical', 'EducationField_Other',\n",
       "       'EducationField_Technical Degree', 'Gender_Female', 'Gender_Male',\n",
       "       'JobRole_Healthcare Representative', 'JobRole_Human Resources',\n",
       "       'JobRole_Laboratory Technician', 'JobRole_Manager',\n",
       "       'JobRole_Manufacturing Director', 'JobRole_Research Director',\n",
       "       'JobRole_Research Scientist', 'JobRole_Sales Executive',\n",
       "       'JobRole_Sales Representative', 'MaritalStatus_Divorced',\n",
       "       'MaritalStatus_Married', 'MaritalStatus_Single', 'Over18_Y',\n",
       "       'OverTime_No', 'OverTime_Yes'],\n",
       "      dtype='object')"
      ]
     },
     "execution_count": 7,
     "metadata": {},
     "output_type": "execute_result"
    }
   ],
   "source": [
    "df.columns"
   ]
  },
  {
   "cell_type": "code",
   "execution_count": 8,
   "metadata": {},
   "outputs": [],
   "source": [
    "#####df.to_csv('C:\\\\Users\\\\tilleymusprime\\\\Desktop\\\\ibmdf.csv')"
   ]
  },
  {
   "cell_type": "code",
   "execution_count": 9,
   "metadata": {},
   "outputs": [],
   "source": [
    "#Now that the data is clean and ready for analysis, we will start with the overall data set.\n",
    "df1 = df[['Attrition_Yes','Age', 'DailyRate', 'DistanceFromHome', 'Education', 'EmployeeCount',\n",
    "       'EmployeeNumber', 'EnvironmentSatisfaction', 'HourlyRate',\n",
    "       'JobInvolvement', 'JobLevel', 'JobSatisfaction', 'MonthlyIncome',\n",
    "       'MonthlyRate', 'NumCompaniesWorked', 'PercentSalaryHike',\n",
    "       'PerformanceRating', 'RelationshipSatisfaction', 'StandardHours',\n",
    "       'StockOptionLevel', 'TotalWorkingYears', 'TrainingTimesLastYear',\n",
    "       'WorkLifeBalance', 'YearsAtCompany', 'YearsInCurrentRole',\n",
    "       'YearsSinceLastPromotion', 'YearsWithCurrManager',\n",
    "       'BusinessTravel_Non-Travel',\n",
    "       'BusinessTravel_Travel_Frequently', 'BusinessTravel_Travel_Rarely',\n",
    "       'Department_Human Resources', 'Department_Research & Development',\n",
    "       'Department_Sales', 'EducationField_Human Resources',\n",
    "       'EducationField_Life Sciences', 'EducationField_Marketing',\n",
    "       'EducationField_Medical', 'EducationField_Other',\n",
    "       'EducationField_Technical Degree', 'Gender_Female', 'Gender_Male',\n",
    "       'JobRole_Healthcare Representative', 'JobRole_Human Resources',\n",
    "       'JobRole_Laboratory Technician', 'JobRole_Manager',\n",
    "       'JobRole_Manufacturing Director', 'JobRole_Research Director',\n",
    "       'JobRole_Research Scientist', 'JobRole_Sales Executive',\n",
    "       'JobRole_Sales Representative', 'MaritalStatus_Divorced',\n",
    "       'MaritalStatus_Married', 'MaritalStatus_Single', 'Over18_Y', 'OverTime_Yes']]\n",
    "       \n",
    "###Dropped Attrition_No since it is just the opposite of Attrition Yes. Dropping Overtime_No as well since it is the\n",
    "#same as overtime_Yes"
   ]
  },
  {
   "cell_type": "code",
   "execution_count": 10,
   "metadata": {},
   "outputs": [],
   "source": [
    "df_corr = df1.corr()"
   ]
  },
  {
   "cell_type": "code",
   "execution_count": 11,
   "metadata": {},
   "outputs": [],
   "source": [
    "positive_corr = df_corr[df_corr['Attrition_Yes'] > 0]\n",
    "negative_corr = df_corr[df_corr['Attrition_Yes'] < 0]"
   ]
  },
  {
   "cell_type": "code",
   "execution_count": 12,
   "metadata": {},
   "outputs": [
    {
     "data": {
      "text/plain": [
       "Attrition_Yes                       1.000000\n",
       "OverTime_Yes                        0.246118\n",
       "MaritalStatus_Single                0.175419\n",
       "JobRole_Sales Representative        0.157234\n",
       "BusinessTravel_Travel_Frequently    0.115143\n",
       "JobRole_Laboratory Technician       0.098290\n",
       "Department_Sales                    0.080855\n",
       "DistanceFromHome                    0.077924\n",
       "EducationField_Technical Degree     0.069355\n",
       "EducationField_Marketing            0.055781\n",
       "NumCompaniesWorked                  0.043494\n",
       "EducationField_Human Resources      0.036466\n",
       "JobRole_Human Resources             0.036215\n",
       "Gender_Male                         0.029453\n",
       "JobRole_Sales Executive             0.019774\n",
       "Department_Human Resources          0.016832\n",
       "MonthlyRate                         0.015170\n",
       "PerformanceRating                   0.002889\n",
       "Name: Attrition_Yes, dtype: float64"
      ]
     },
     "execution_count": 12,
     "metadata": {},
     "output_type": "execute_result"
    }
   ],
   "source": [
    "positive_corr['Attrition_Yes'].sort_values(ascending = False)\n",
    "#It looks like the strongest attributes come from working overtime and frequent travelling \n",
    "#This indicates that people who are single are more willing to take risks and leave a company for something else\n",
    "#Finally, working in sales or being a lab tech is a very transferable skill as opposed to other positions.  This makes them \n",
    "#more likely to move to a different company.  Sales could be a good variable to look at later"
   ]
  },
  {
   "cell_type": "code",
   "execution_count": 13,
   "metadata": {},
   "outputs": [
    {
     "data": {
      "text/plain": [
       "TotalWorkingYears                   -0.171063\n",
       "JobLevel                            -0.169105\n",
       "YearsInCurrentRole                  -0.160545\n",
       "MonthlyIncome                       -0.159840\n",
       "Age                                 -0.159205\n",
       "YearsWithCurrManager                -0.156199\n",
       "StockOptionLevel                    -0.137145\n",
       "YearsAtCompany                      -0.134392\n",
       "JobInvolvement                      -0.130016\n",
       "JobSatisfaction                     -0.103481\n",
       "EnvironmentSatisfaction             -0.103369\n",
       "MaritalStatus_Married               -0.090984\n",
       "JobRole_Research Director           -0.088870\n",
       "MaritalStatus_Divorced              -0.087716\n",
       "Department_Research & Development   -0.085293\n",
       "JobRole_Manager                     -0.083316\n",
       "JobRole_Manufacturing Director      -0.082994\n",
       "JobRole_Healthcare Representative   -0.078696\n",
       "BusinessTravel_Non-Travel           -0.074457\n",
       "WorkLifeBalance                     -0.063939\n",
       "TrainingTimesLastYear               -0.059478\n",
       "DailyRate                           -0.056652\n",
       "BusinessTravel_Travel_Rarely        -0.049538\n",
       "EducationField_Medical              -0.046999\n",
       "RelationshipSatisfaction            -0.045872\n",
       "YearsSinceLastPromotion             -0.033019\n",
       "EducationField_Life Sciences        -0.032703\n",
       "Education                           -0.031373\n",
       "Gender_Female                       -0.029453\n",
       "EducationField_Other                -0.017898\n",
       "PercentSalaryHike                   -0.013478\n",
       "EmployeeNumber                      -0.010577\n",
       "HourlyRate                          -0.006846\n",
       "JobRole_Research Scientist          -0.000360\n",
       "Name: Attrition_Yes, dtype: float64"
      ]
     },
     "execution_count": 13,
     "metadata": {},
     "output_type": "execute_result"
    }
   ],
   "source": [
    "negative_corr['Attrition_Yes'].sort_values()\n",
    "#The longer people work for a company, the less likely they are to leave that company. \n",
    "#As people get older, they are less likely to leave that company.  Since young people are more likely to leave,\n",
    "#we will analyze the age variable more shortly\n",
    "#Finally, as job satisfaction increases, retention increases"
   ]
  },
  {
   "cell_type": "code",
   "execution_count": 14,
   "metadata": {},
   "outputs": [],
   "source": [
    "#Let's take a more in-depth look at people 30 and under (I personally am 31 so please do not take offense at over 30 being old)\n",
    "young = df1[df1['Age'] <=30]"
   ]
  },
  {
   "cell_type": "code",
   "execution_count": 15,
   "metadata": {},
   "outputs": [],
   "source": [
    "young_corr = young.corr()\n",
    "positive_corryoung = young_corr[young_corr['Attrition_Yes'] > 0]\n",
    "negative_corryoung = young_corr[young_corr['Attrition_Yes'] < 0]"
   ]
  },
  {
   "cell_type": "code",
   "execution_count": 16,
   "metadata": {},
   "outputs": [
    {
     "data": {
      "text/plain": [
       "Attrition_Yes                       1.000000\n",
       "OverTime_Yes                        0.338356\n",
       "MaritalStatus_Single                0.247768\n",
       "JobRole_Sales Representative        0.215855\n",
       "BusinessTravel_Travel_Frequently    0.187115\n",
       "EducationField_Technical Degree     0.171396\n",
       "EducationField_Human Resources      0.116902\n",
       "NumCompaniesWorked                  0.108753\n",
       "EducationField_Marketing            0.094123\n",
       "JobRole_Laboratory Technician       0.089823\n",
       "JobRole_Human Resources             0.084691\n",
       "Department_Human Resources          0.084691\n",
       "MonthlyRate                         0.072677\n",
       "Department_Sales                    0.050920\n",
       "Education                           0.050521\n",
       "DistanceFromHome                    0.047377\n",
       "Gender_Female                       0.038728\n",
       "Name: Attrition_Yes, dtype: float64"
      ]
     },
     "execution_count": 16,
     "metadata": {},
     "output_type": "execute_result"
    }
   ],
   "source": [
    "positive_corryoung['Attrition_Yes'].sort_values(ascending=False)"
   ]
  },
  {
   "cell_type": "code",
   "execution_count": 17,
   "metadata": {},
   "outputs": [
    {
     "data": {
      "text/plain": [
       "YearsAtCompany                      -0.288052\n",
       "TotalWorkingYears                   -0.272667\n",
       "YearsWithCurrManager                -0.245101\n",
       "YearsInCurrentRole                  -0.244458\n",
       "JobLevel                            -0.222537\n",
       "MonthlyIncome                       -0.214636\n",
       "Age                                 -0.201342\n",
       "StockOptionLevel                    -0.200500\n",
       "JobInvolvement                      -0.177832\n",
       "MaritalStatus_Divorced              -0.148085\n",
       "JobRole_Manufacturing Director      -0.135318\n",
       "MaritalStatus_Married               -0.122499\n",
       "DailyRate                           -0.121624\n",
       "JobSatisfaction                     -0.118842\n",
       "JobRole_Sales Executive             -0.116171\n",
       "EnvironmentSatisfaction             -0.110410\n",
       "BusinessTravel_Non-Travel           -0.104351\n",
       "EducationField_Medical              -0.102176\n",
       "BusinessTravel_Travel_Rarely        -0.094055\n",
       "Department_Research & Development   -0.084802\n",
       "EducationField_Life Sciences        -0.070968\n",
       "YearsSinceLastPromotion             -0.066859\n",
       "JobRole_Healthcare Representative   -0.063634\n",
       "JobRole_Research Director           -0.060508\n",
       "EducationField_Other                -0.059505\n",
       "PercentSalaryHike                   -0.058265\n",
       "JobRole_Research Scientist          -0.055673\n",
       "HourlyRate                          -0.053786\n",
       "Gender_Male                         -0.038728\n",
       "PerformanceRating                   -0.037548\n",
       "TrainingTimesLastYear               -0.032351\n",
       "JobRole_Manager                     -0.030136\n",
       "RelationshipSatisfaction            -0.029135\n",
       "WorkLifeBalance                     -0.021575\n",
       "EmployeeNumber                      -0.006914\n",
       "Name: Attrition_Yes, dtype: float64"
      ]
     },
     "execution_count": 17,
     "metadata": {},
     "output_type": "execute_result"
    }
   ],
   "source": [
    "negative_corryoung['Attrition_Yes'].sort_values()"
   ]
  },
  {
   "cell_type": "code",
   "execution_count": 18,
   "metadata": {},
   "outputs": [],
   "source": [
    "old = df1[df1['Age'] > 30]"
   ]
  },
  {
   "cell_type": "code",
   "execution_count": 19,
   "metadata": {},
   "outputs": [],
   "source": [
    "old_corr = old.corr()\n",
    "positive_corrold = old_corr[old_corr['Attrition_Yes'] > 0]\n",
    "negative_corrold = old_corr[old_corr['Attrition_Yes'] < 0]"
   ]
  },
  {
   "cell_type": "code",
   "execution_count": 20,
   "metadata": {},
   "outputs": [
    {
     "data": {
      "text/plain": [
       "Attrition_Yes                       1.000000\n",
       "OverTime_Yes                        0.213936\n",
       "MaritalStatus_Single                0.124241\n",
       "Department_Sales                    0.098302\n",
       "JobRole_Sales Executive             0.091098\n",
       "DistanceFromHome                    0.090091\n",
       "BusinessTravel_Travel_Frequently    0.089625\n",
       "JobRole_Sales Representative        0.075596\n",
       "JobRole_Laboratory Technician       0.075354\n",
       "NumCompaniesWorked                  0.069582\n",
       "Gender_Male                         0.055714\n",
       "EducationField_Marketing            0.052628\n",
       "PerformanceRating                   0.022255\n",
       "HourlyRate                          0.020442\n",
       "YearsSinceLastPromotion             0.012725\n",
       "JobRole_Human Resources             0.006975\n",
       "EducationField_Human Resources      0.006968\n",
       "PercentSalaryHike                   0.006801\n",
       "Name: Attrition_Yes, dtype: float64"
      ]
     },
     "execution_count": 20,
     "metadata": {},
     "output_type": "execute_result"
    }
   ],
   "source": [
    "positive_corrold['Attrition_Yes'].sort_values(ascending=False)"
   ]
  },
  {
   "cell_type": "code",
   "execution_count": 21,
   "metadata": {},
   "outputs": [
    {
     "data": {
      "text/plain": [
       "JobLevel                            -0.107949\n",
       "MonthlyIncome                       -0.106996\n",
       "StockOptionLevel                    -0.105418\n",
       "EnvironmentSatisfaction             -0.103522\n",
       "YearsInCurrentRole                  -0.102404\n",
       "JobInvolvement                      -0.098509\n",
       "TotalWorkingYears                   -0.096150\n",
       "JobSatisfaction                     -0.096137\n",
       "YearsWithCurrManager                -0.095397\n",
       "Department_Research & Development   -0.089499\n",
       "JobRole_Research Director           -0.082692\n",
       "TrainingTimesLastYear               -0.081182\n",
       "WorkLifeBalance                     -0.078405\n",
       "JobRole_Manager                     -0.074163\n",
       "JobRole_Healthcare Representative   -0.067923\n",
       "YearsAtCompany                      -0.067912\n",
       "MaritalStatus_Married               -0.063733\n",
       "MaritalStatus_Divorced              -0.059502\n",
       "BusinessTravel_Non-Travel           -0.058908\n",
       "Gender_Female                       -0.055714\n",
       "JobRole_Manufacturing Director      -0.053638\n",
       "Age                                 -0.050944\n",
       "RelationshipSatisfaction            -0.048736\n",
       "BusinessTravel_Travel_Rarely        -0.037502\n",
       "DailyRate                           -0.034186\n",
       "EducationField_Medical              -0.029871\n",
       "Department_Human Resources          -0.012814\n",
       "Education                           -0.009814\n",
       "MonthlyRate                         -0.009134\n",
       "EmployeeNumber                      -0.008352\n",
       "EducationField_Technical Degree     -0.006399\n",
       "EducationField_Life Sciences        -0.003603\n",
       "EducationField_Other                -0.002536\n",
       "JobRole_Research Scientist          -0.000950\n",
       "Name: Attrition_Yes, dtype: float64"
      ]
     },
     "execution_count": 21,
     "metadata": {},
     "output_type": "execute_result"
    }
   ],
   "source": [
    "negative_corrold['Attrition_Yes'].sort_values()"
   ]
  },
  {
   "cell_type": "code",
   "execution_count": null,
   "metadata": {},
   "outputs": [],
   "source": []
  },
  {
   "cell_type": "code",
   "execution_count": 22,
   "metadata": {},
   "outputs": [],
   "source": [
    "sales_df = df1[['Attrition_Yes','Age', 'DailyRate', 'DistanceFromHome', 'Education', 'EmployeeCount',\n",
    "       'EmployeeNumber', 'EnvironmentSatisfaction', 'HourlyRate',\n",
    "       'JobInvolvement', 'JobLevel', 'JobSatisfaction', 'MonthlyIncome',\n",
    "       'MonthlyRate', 'NumCompaniesWorked', 'PercentSalaryHike',\n",
    "       'PerformanceRating', 'RelationshipSatisfaction', 'StandardHours',\n",
    "       'StockOptionLevel', 'TotalWorkingYears', 'TrainingTimesLastYear',\n",
    "       'WorkLifeBalance', 'YearsAtCompany', 'YearsInCurrentRole',\n",
    "       'YearsSinceLastPromotion', 'YearsWithCurrManager',\n",
    "       'BusinessTravel_Non-Travel',\n",
    "       'BusinessTravel_Travel_Frequently', 'BusinessTravel_Travel_Rarely',\n",
    "       'Department_Sales',\n",
    "       'Gender_Female', 'Gender_Male',\n",
    "       'MaritalStatus_Divorced', 'MaritalStatus_Married', 'MaritalStatus_Single', 'Over18_Y',\n",
    "        'OverTime_Yes']]"
   ]
  },
  {
   "cell_type": "code",
   "execution_count": 23,
   "metadata": {},
   "outputs": [],
   "source": [
    "###The last correlation we will look at is how to keep your salespeople\n",
    "sales = sales_df[sales_df['Department_Sales'] == 1]"
   ]
  },
  {
   "cell_type": "code",
   "execution_count": 24,
   "metadata": {},
   "outputs": [],
   "source": [
    "sales_corr = sales.corr()\n",
    "positive_sales_corr = sales_corr[sales_corr['Attrition_Yes'] >0]\n",
    "negative_sales_corr = sales_corr[sales_corr['Attrition_Yes'] <0]"
   ]
  },
  {
   "cell_type": "code",
   "execution_count": 25,
   "metadata": {},
   "outputs": [
    {
     "data": {
      "text/plain": [
       "Attrition_Yes                       1.000000\n",
       "OverTime_Yes                        0.264547\n",
       "MaritalStatus_Single                0.250250\n",
       "BusinessTravel_Travel_Frequently    0.151258\n",
       "DistanceFromHome                    0.090808\n",
       "NumCompaniesWorked                  0.080728\n",
       "MonthlyRate                         0.063482\n",
       "EmployeeNumber                      0.020183\n",
       "Gender_Male                         0.011063\n",
       "Name: Attrition_Yes, dtype: float64"
      ]
     },
     "execution_count": 25,
     "metadata": {},
     "output_type": "execute_result"
    }
   ],
   "source": [
    "positive_sales_corr['Attrition_Yes'].sort_values(ascending=False)"
   ]
  },
  {
   "cell_type": "code",
   "execution_count": 26,
   "metadata": {},
   "outputs": [
    {
     "data": {
      "text/plain": [
       "YearsWithCurrManager           -0.173528\n",
       "JobInvolvement                 -0.169626\n",
       "StockOptionLevel               -0.166162\n",
       "YearsInCurrentRole             -0.164845\n",
       "TotalWorkingYears              -0.157500\n",
       "MaritalStatus_Married          -0.149974\n",
       "JobLevel                       -0.146621\n",
       "YearsAtCompany                 -0.145203\n",
       "MonthlyIncome                  -0.132122\n",
       "Age                            -0.128923\n",
       "MaritalStatus_Divorced         -0.111120\n",
       "JobSatisfaction                -0.105362\n",
       "BusinessTravel_Non-Travel      -0.102779\n",
       "EnvironmentSatisfaction        -0.099780\n",
       "DailyRate                      -0.070836\n",
       "BusinessTravel_Travel_Rarely   -0.060557\n",
       "WorkLifeBalance                -0.058205\n",
       "Education                      -0.048517\n",
       "PerformanceRating              -0.041654\n",
       "TrainingTimesLastYear          -0.039986\n",
       "HourlyRate                     -0.035664\n",
       "YearsSinceLastPromotion        -0.024139\n",
       "PercentSalaryHike              -0.019965\n",
       "RelationshipSatisfaction       -0.019646\n",
       "Gender_Female                  -0.011063\n",
       "Name: Attrition_Yes, dtype: float64"
      ]
     },
     "execution_count": 26,
     "metadata": {},
     "output_type": "execute_result"
    }
   ],
   "source": [
    "negative_sales_corr['Attrition_Yes'].sort_values()"
   ]
  },
  {
   "cell_type": "code",
   "execution_count": null,
   "metadata": {},
   "outputs": [],
   "source": []
  },
  {
   "cell_type": "code",
   "execution_count": null,
   "metadata": {},
   "outputs": [],
   "source": []
  },
  {
   "cell_type": "code",
   "execution_count": null,
   "metadata": {},
   "outputs": [],
   "source": []
  },
  {
   "cell_type": "code",
   "execution_count": 27,
   "metadata": {},
   "outputs": [],
   "source": [
    "###Now that we have looked at the correlations in the data, we will use Random Forest Modeling to\n",
    "#see if we can predict what employees will leave"
   ]
  },
  {
   "cell_type": "code",
   "execution_count": 28,
   "metadata": {},
   "outputs": [],
   "source": [
    "attr = [['Age', 'DailyRate', 'DistanceFromHome', 'Education', 'EmployeeCount',\n",
    "       'EmployeeNumber', 'EnvironmentSatisfaction', 'HourlyRate',\n",
    "       'JobInvolvement', 'JobLevel', 'JobSatisfaction', 'MonthlyIncome',\n",
    "       'MonthlyRate', 'NumCompaniesWorked', 'PercentSalaryHike',\n",
    "       'PerformanceRating', 'RelationshipSatisfaction', 'StandardHours',\n",
    "       'StockOptionLevel', 'TotalWorkingYears', 'TrainingTimesLastYear',\n",
    "       'WorkLifeBalance', 'YearsAtCompany', 'YearsInCurrentRole',\n",
    "       'YearsSinceLastPromotion', 'YearsWithCurrManager',\n",
    "       'BusinessTravel_Non-Travel',\n",
    "       'BusinessTravel_Travel_Frequently', 'BusinessTravel_Travel_Rarely',\n",
    "       'Department_Human_Resources', 'Department_Research & Development',\n",
    "       'Department_Sales', 'EducationField_Human_Resources',\n",
    "       'EducationField_Life_Sciences', 'EducationField_Marketing',\n",
    "       'EducationField_Medical', 'EducationField_Other',\n",
    "       'EducationField_Technical_Degree', 'Gender_Female', 'Gender_Male',\n",
    "       'JobRole_Healthcare_Representative', 'JobRole_Human_Resources',\n",
    "       'JobRole_Laboratory_Technician', 'JobRole_Manager',\n",
    "       'JobRole_Manufacturing_Director', 'JobRole_Research_Director',\n",
    "       'JobRole_Research_Scientist', 'JobRole_Sales_Executive',\n",
    "       'JobRole_Sales_Representative', 'MaritalStatus_Divorced',\n",
    "       'MaritalStatus_Married', 'MaritalStatus_Single', 'Over18_Y',\n",
    "       'OverTime_Yes']]\n",
    "##This is our list of attritbutes that the model is using to predict retention"
   ]
  },
  {
   "cell_type": "code",
   "execution_count": 29,
   "metadata": {},
   "outputs": [],
   "source": [
    "##First, lets use the overall data set and see what happens\n",
    "y = df1['Attrition_Yes']\n",
    "X = df1[['Age', 'DailyRate', 'DistanceFromHome', 'Education', 'EmployeeCount',\n",
    "       'EmployeeNumber', 'EnvironmentSatisfaction', 'HourlyRate',\n",
    "       'JobInvolvement', 'JobLevel', 'JobSatisfaction', 'MonthlyIncome',\n",
    "       'MonthlyRate', 'NumCompaniesWorked', 'PercentSalaryHike',\n",
    "       'PerformanceRating', 'RelationshipSatisfaction', 'StandardHours',\n",
    "       'StockOptionLevel', 'TotalWorkingYears', 'TrainingTimesLastYear',\n",
    "       'WorkLifeBalance', 'YearsAtCompany', 'YearsInCurrentRole',\n",
    "       'YearsSinceLastPromotion', 'YearsWithCurrManager',\n",
    "       'BusinessTravel_Non-Travel',\n",
    "       'BusinessTravel_Travel_Frequently', 'BusinessTravel_Travel_Rarely',\n",
    "       'Department_Human Resources', 'Department_Research & Development',\n",
    "       'Department_Sales', 'EducationField_Human Resources',\n",
    "       'EducationField_Life Sciences', 'EducationField_Marketing',\n",
    "       'EducationField_Medical', 'EducationField_Other',\n",
    "       'EducationField_Technical Degree', 'Gender_Female', 'Gender_Male',\n",
    "       'JobRole_Healthcare Representative', 'JobRole_Human Resources',\n",
    "       'JobRole_Laboratory Technician', 'JobRole_Manager',\n",
    "       'JobRole_Manufacturing Director', 'JobRole_Research Director',\n",
    "       'JobRole_Research Scientist', 'JobRole_Sales Executive',\n",
    "       'JobRole_Sales Representative', 'MaritalStatus_Divorced',\n",
    "       'MaritalStatus_Married', 'MaritalStatus_Single', 'Over18_Y',\n",
    "       'OverTime_Yes']]"
   ]
  },
  {
   "cell_type": "code",
   "execution_count": 30,
   "metadata": {},
   "outputs": [
    {
     "name": "stdout",
     "output_type": "stream",
     "text": [
      "Accuracy: 0.8662131519274376\n"
     ]
    }
   ],
   "source": [
    "X_train, X_test, y_train, y_test = train_test_split(X, y, test_size=0.3, random_state=42)\n",
    "clf = RandomForestClassifier(n_estimators = 100)\n",
    "clf.fit(X_train, y_train)\n",
    "y_pred = clf.predict(X_test)\n",
    "print('Accuracy:', metrics.accuracy_score(y_test, y_pred))\n",
    "#87% is a great start.  Let's dive a little bit deeper though and look at what our model is doing"
   ]
  },
  {
   "cell_type": "code",
   "execution_count": null,
   "metadata": {},
   "outputs": [],
   "source": []
  },
  {
   "cell_type": "code",
   "execution_count": 31,
   "metadata": {},
   "outputs": [
    {
     "name": "stdout",
     "output_type": "stream",
     "text": [
      "[0.85084746 0.85084746 0.86054422 0.85665529 0.85665529] 0.8551099426292181\n"
     ]
    }
   ],
   "source": [
    "from sklearn.model_selection import cross_val_score\n",
    "\n",
    "cv5 = cross_val_score(clf, X, y, cv=5)\n",
    "cv5mean = np.mean(cv5)\n",
    "print(cv5, cv5mean)\n",
    "##So far, it looks like our model is doing pretty well.  Let's take a more in-depth look at the testing"
   ]
  },
  {
   "cell_type": "code",
   "execution_count": 32,
   "metadata": {},
   "outputs": [
    {
     "name": "stdout",
     "output_type": "stream",
     "text": [
      "Confusion matrix:\n",
      " [[376   4]\n",
      " [ 55   6]]\n"
     ]
    },
    {
     "data": {
      "image/png": "[encoded data removed]",
      "text/plain": [
       "<Figure size 432x288 with 2 Axes>"
      ]
     },
     "metadata": {
      "needs_background": "light"
     },
     "output_type": "display_data"
    }
   ],
   "source": [
    "from sklearn.metrics import confusion_matrix\n",
    "from matplotlib import pyplot as plt\n",
    "\n",
    "conf_mat = confusion_matrix(y_true=y_test, y_pred=y_pred)\n",
    "print('Confusion matrix:\\n', conf_mat)\n",
    "\n",
    "labels = ['Class 0', 'Class 1']\n",
    "fig = plt.figure()\n",
    "ax = fig.add_subplot(111)\n",
    "cax = ax.matshow(conf_mat, cmap=plt.cm.Blues)\n",
    "fig.colorbar(cax)\n",
    "ax.set_xticklabels([''] + labels)\n",
    "ax.set_yticklabels([''] + labels)\n",
    "plt.xlabel('Predicted')\n",
    "plt.ylabel('Expected')\n",
    "plt.show()\n",
    "#In the confusion matrix below, the top left corner shows True Positives (the program gusses retention and the answer\n",
    "#was retention)\n",
    "#The bottom left corner shows False Positives (The model predicted retention and the answer was attrition)\n",
    "#It looks like our model just guessed retention 98.2% of the time\n",
    "#When it did guess attrition, it was right only 25% of the time."
   ]
  },
  {
   "cell_type": "code",
   "execution_count": null,
   "metadata": {},
   "outputs": [],
   "source": []
  },
  {
   "cell_type": "code",
   "execution_count": 33,
   "metadata": {},
   "outputs": [
    {
     "name": "stdout",
     "output_type": "stream",
     "text": [
      "(237, 55) (1233, 55)\n"
     ]
    }
   ],
   "source": [
    "##Let's check the balance between attrition and retention for the data set\n",
    "attrition = df1[df1['Attrition_Yes'] == 1]\n",
    "retention = df1[df1['Attrition_Yes'] == 0]\n",
    "print(attrition.shape, retention.shape)\n",
    "###It looks like there are significantly more retention numbers than attrition numbers. To counter this,\n",
    "#we will try undersampling.\n",
    "#We are using undersampling because when there is a large imbalance between success and failure variables, the model\n",
    "# can be kind of a smart-ass and will just predict retention for every problem. This will give us an accurate score\n",
    "#but it kind of defeats the purpose of creating a model."
   ]
  },
  {
   "cell_type": "code",
   "execution_count": 34,
   "metadata": {},
   "outputs": [
    {
     "name": "stdout",
     "output_type": "stream",
     "text": [
      "(1233, 55) (237, 55)\n"
     ]
    }
   ],
   "source": [
    "count_class_0, count_class_1 = df.Attrition_Yes.value_counts()\n",
    "df_class_0 = retention\n",
    "df_class_1 = attrition\n",
    "print(df_class_0.shape, df_class_1.shape)"
   ]
  },
  {
   "cell_type": "code",
   "execution_count": 35,
   "metadata": {},
   "outputs": [
    {
     "name": "stdout",
     "output_type": "stream",
     "text": [
      "Random under-sampling:\n",
      "1    237\n",
      "0    237\n",
      "Name: Attrition_Yes, dtype: int64\n"
     ]
    }
   ],
   "source": [
    "df_class_0_under = df_class_0.sample(count_class_1)\n",
    "df_test_under = pd.concat([df_class_0_under, df_class_1], axis=0)\n",
    "\n",
    "print('Random under-sampling:')\n",
    "print(df_test_under.Attrition_Yes.value_counts())"
   ]
  },
  {
   "cell_type": "code",
   "execution_count": null,
   "metadata": {},
   "outputs": [],
   "source": []
  },
  {
   "cell_type": "code",
   "execution_count": 36,
   "metadata": {},
   "outputs": [],
   "source": [
    "##Now we will set up the data for random forest modeling for the overall data set\n",
    "y = df_test_under['Attrition_Yes']\n",
    "X = df_test_under[['Age', 'DailyRate', 'DistanceFromHome', 'Education', 'EmployeeCount',\n",
    "       'EmployeeNumber', 'EnvironmentSatisfaction', 'HourlyRate',\n",
    "       'JobInvolvement', 'JobLevel', 'JobSatisfaction', 'MonthlyIncome',\n",
    "       'MonthlyRate', 'NumCompaniesWorked', 'PercentSalaryHike',\n",
    "       'PerformanceRating', 'RelationshipSatisfaction', 'StandardHours',\n",
    "       'StockOptionLevel', 'TotalWorkingYears', 'TrainingTimesLastYear',\n",
    "       'WorkLifeBalance', 'YearsAtCompany', 'YearsInCurrentRole',\n",
    "       'YearsSinceLastPromotion', 'YearsWithCurrManager',\n",
    "       'BusinessTravel_Non-Travel',\n",
    "       'BusinessTravel_Travel_Frequently', 'BusinessTravel_Travel_Rarely',\n",
    "       'Department_Human Resources', 'Department_Research & Development',\n",
    "       'Department_Sales', 'EducationField_Human Resources',\n",
    "       'EducationField_Life Sciences', 'EducationField_Marketing',\n",
    "       'EducationField_Medical', 'EducationField_Other',\n",
    "       'EducationField_Technical Degree', 'Gender_Female', 'Gender_Male',\n",
    "       'JobRole_Healthcare Representative', 'JobRole_Human Resources',\n",
    "       'JobRole_Laboratory Technician', 'JobRole_Manager',\n",
    "       'JobRole_Manufacturing Director', 'JobRole_Research Director',\n",
    "       'JobRole_Research Scientist', 'JobRole_Sales Executive',\n",
    "       'JobRole_Sales Representative', 'MaritalStatus_Divorced',\n",
    "       'MaritalStatus_Married', 'MaritalStatus_Single', 'Over18_Y',\n",
    "       'OverTime_Yes']]"
   ]
  },
  {
   "cell_type": "code",
   "execution_count": 37,
   "metadata": {},
   "outputs": [
    {
     "name": "stdout",
     "output_type": "stream",
     "text": [
      "Accuracy: 0.6993006993006993\n"
     ]
    }
   ],
   "source": [
    "X_train, X_test, y_train, y_test = train_test_split(X, y, test_size=0.3, random_state=42)\n",
    "clf = RandomForestClassifier(n_estimators = 100)\n",
    "clf.fit(X_train, y_train)\n",
    "y_pred = clf.predict(X_test)\n",
    "print('Accuracy:', metrics.accuracy_score(y_test, y_pred))"
   ]
  },
  {
   "cell_type": "code",
   "execution_count": 38,
   "metadata": {},
   "outputs": [
    {
     "data": {
      "text/plain": [
       "MonthlyIncome                        0.059460\n",
       "OverTime_Yes                         0.058478\n",
       "YearsAtCompany                       0.051809\n",
       "HourlyRate                           0.046114\n",
       "EmployeeNumber                       0.045096\n",
       "DailyRate                            0.044713\n",
       "MonthlyRate                          0.043826\n",
       "Age                                  0.043776\n",
       "TotalWorkingYears                    0.043078\n",
       "JobSatisfaction                      0.040895\n",
       "DistanceFromHome                     0.039489\n",
       "YearsWithCurrManager                 0.036156\n",
       "NumCompaniesWorked                   0.034455\n",
       "PercentSalaryHike                    0.029916\n",
       "JobLevel                             0.029168\n",
       "YearsInCurrentRole                   0.028685\n",
       "StockOptionLevel                     0.028326\n",
       "JobInvolvement                       0.024300\n",
       "YearsSinceLastPromotion              0.024233\n",
       "EnvironmentSatisfaction              0.023903\n",
       "RelationshipSatisfaction             0.019017\n",
       "TrainingTimesLastYear                0.018410\n",
       "Education                            0.018185\n",
       "WorkLifeBalance                      0.015585\n",
       "MaritalStatus_Single                 0.011912\n",
       "Department_Sales                     0.009643\n",
       "Department_Research & Development    0.009269\n",
       "BusinessTravel_Non-Travel            0.009075\n",
       "JobRole_Research_Scientist           0.007672\n",
       "EducationField_Medical               0.007300\n",
       "EducationField_Technical_Degree      0.007211\n",
       "MaritalStatus_Divorced               0.007148\n",
       "Gender_Male                          0.006525\n",
       "BusinessTravel_Travel_Frequently     0.006422\n",
       "BusinessTravel_Travel_Rarely         0.006388\n",
       "EducationField_Life_Sciences         0.006369\n",
       "JobRole_Sales_Executive              0.005987\n",
       "JobRole_Sales_Representative         0.005915\n",
       "JobRole_Laboratory_Technician        0.005725\n",
       "EducationField_Marketing             0.005573\n",
       "Gender_Female                        0.005430\n",
       "EducationField_Other                 0.005008\n",
       "MaritalStatus_Married                0.004974\n",
       "JobRole_Healthcare_Representative    0.004305\n",
       "JobRole_Research_Director            0.003630\n",
       "PerformanceRating                    0.003329\n",
       "JobRole_Manager                      0.002908\n",
       "JobRole_Manufacturing_Director       0.002543\n",
       "Department_Human_Resources           0.001281\n",
       "JobRole_Human_Resources              0.001271\n",
       "EducationField_Human_Resources       0.000113\n",
       "StandardHours                        0.000000\n",
       "EmployeeCount                        0.000000\n",
       "Over18_Y                             0.000000\n",
       "dtype: float64"
      ]
     },
     "execution_count": 38,
     "metadata": {},
     "output_type": "execute_result"
    }
   ],
   "source": [
    "feature_imp = pd.Series(clf.feature_importances_, index = attr).sort_values(ascending=False)\n",
    "feature_imp"
   ]
  },
  {
   "cell_type": "code",
   "execution_count": 131,
   "metadata": {},
   "outputs": [
    {
     "name": "stdout",
     "output_type": "stream",
     "text": [
      "              precision    recall  f1-score   support\n",
      "\n",
      "           0       0.67      0.73      0.70        73\n",
      "           1       0.69      0.63      0.66        70\n",
      "\n",
      "   micro avg       0.68      0.68      0.68       143\n",
      "   macro avg       0.68      0.68      0.68       143\n",
      "weighted avg       0.68      0.68      0.68       143\n",
      "\n"
     ]
    }
   ],
   "source": [
    "from sklearn.metrics import classification_report\n",
    "print(classification_report(y_test, y_pred))"
   ]
  },
  {
   "cell_type": "code",
   "execution_count": 132,
   "metadata": {},
   "outputs": [
    {
     "name": "stdout",
     "output_type": "stream",
     "text": [
      "[0.375      0.69791667 0.62765957 0.68085106 0.36170213] 0.5486258865248227\n"
     ]
    }
   ],
   "source": [
    "from sklearn.model_selection import cross_val_score\n",
    "\n",
    "cv5 = cross_val_score(clf, X, y, cv=5)\n",
    "cv5mean = np.mean(cv5)\n",
    "print(cv5, cv5mean)"
   ]
  },
  {
   "cell_type": "code",
   "execution_count": 134,
   "metadata": {},
   "outputs": [
    {
     "name": "stdout",
     "output_type": "stream",
     "text": [
      "Confusion matrix:\n",
      " [[20  3]\n",
      " [ 6 19]]\n"
     ]
    },
    {
     "data": {
      "image/png": "[encoded data removed]",
      "text/plain": [
       "<Figure size 432x288 with 2 Axes>"
      ]
     },
     "metadata": {
      "needs_background": "light"
     },
     "output_type": "display_data"
    }
   ],
   "source": [
    "conf_mat = confusion_matrix(y_true=y_test, y_pred=y_pred)\n",
    "print('Confusion matrix:\\n', conf_mat)\n",
    "\n",
    "labels = ['Class 0', 'Class 1']\n",
    "fig = plt.figure()\n",
    "ax = fig.add_subplot(111)\n",
    "cax = ax.matshow(conf_mat, cmap=plt.cm.Blues)\n",
    "fig.colorbar(cax)\n",
    "ax.set_xticklabels([''] + labels)\n",
    "ax.set_yticklabels([''] + labels)\n",
    "plt.xlabel('Predicted')\n",
    "plt.ylabel('Expected')\n",
    "plt.show()"
   ]
  },
  {
   "cell_type": "code",
   "execution_count": 133,
   "metadata": {},
   "outputs": [
    {
     "name": "stdout",
     "output_type": "stream",
     "text": [
      "Accuracy: 0.8125\n"
     ]
    }
   ],
   "source": [
    "##It doesn't look like our model is very good at predicting attrition using undersampling.  \n",
    "#The most likely cause is that we are dealing with complex data and due to the small amount of actual attrition variables,\n",
    "#there is not enough data for the model to accurately predict whether or not a person will quit.\n",
    "#Just for fun, let's see if changing the test size improves accuracy. \n",
    "X_train, X_test, y_train, y_test = train_test_split(X, y, test_size=0.1, random_state=42)\n",
    "clf = RandomForestClassifier(n_estimators = 100)\n",
    "clf.fit(X_train, y_train)\n",
    "y_pred = clf.predict(X_test)\n",
    "print('Accuracy:', metrics.accuracy_score(y_test, y_pred))\n",
    "#It looks like the accuracy did go up with more data.  Before we celebrate though, let's do some cross-validation"
   ]
  },
  {
   "cell_type": "code",
   "execution_count": 114,
   "metadata": {},
   "outputs": [
    {
     "name": "stdout",
     "output_type": "stream",
     "text": [
      "[0.3125     0.69791667 0.65957447 0.61702128 0.42553191] 0.542508865248227\n"
     ]
    }
   ],
   "source": [
    "from sklearn.model_selection import cross_val_score\n",
    "\n",
    "cv5 = cross_val_score(clf, X, y, cv=5)\n",
    "cv5mean = np.mean(cv5)\n",
    "print(cv5, cv5mean)\n",
    "#It doesn't look like it really improved the model.\n",
    "#As can be seen in the next line, it looks like there are also some slight differences in the feature importance as well."
   ]
  },
  {
   "cell_type": "code",
   "execution_count": 111,
   "metadata": {},
   "outputs": [
    {
     "data": {
      "text/plain": [
       "MonthlyIncome                        0.066422\n",
       "Age                                  0.054189\n",
       "YearsAtCompany                       0.051825\n",
       "EmployeeNumber                       0.047543\n",
       "TotalWorkingYears                    0.045764\n",
       "HourlyRate                           0.042820\n",
       "OverTime_Yes                         0.041586\n",
       "MonthlyRate                          0.041069\n",
       "DailyRate                            0.040360\n",
       "YearsInCurrentRole                   0.036013\n",
       "StockOptionLevel                     0.033514\n",
       "DistanceFromHome                     0.033207\n",
       "YearsWithCurrManager                 0.033013\n",
       "PercentSalaryHike                    0.030706\n",
       "JobLevel                             0.030185\n",
       "JobSatisfaction                      0.027345\n",
       "NumCompaniesWorked                   0.025249\n",
       "RelationshipSatisfaction             0.022868\n",
       "EnvironmentSatisfaction              0.021931\n",
       "YearsSinceLastPromotion              0.021698\n",
       "MaritalStatus_Single                 0.021221\n",
       "JobInvolvement                       0.018982\n",
       "TrainingTimesLastYear                0.017639\n",
       "Education                            0.017225\n",
       "WorkLifeBalance                      0.017146\n",
       "Department_Sales                     0.010700\n",
       "Department_Research & Development    0.010668\n",
       "BusinessTravel_Travel_Frequently     0.009453\n",
       "JobRole_Sales_Executive              0.009352\n",
       "JobRole_Research_Scientist           0.009161\n",
       "MaritalStatus_Divorced               0.009093\n",
       "EducationField_Life_Sciences         0.008728\n",
       "Gender_Female                        0.008597\n",
       "JobRole_Sales_Representative         0.008428\n",
       "EducationField_Medical               0.008261\n",
       "JobRole_Laboratory_Technician        0.008221\n",
       "MaritalStatus_Married                0.007975\n",
       "Gender_Male                          0.007363\n",
       "BusinessTravel_Travel_Rarely         0.005806\n",
       "JobRole_Healthcare_Representative    0.005690\n",
       "EducationField_Marketing             0.004802\n",
       "EducationField_Technical_Degree      0.004745\n",
       "PerformanceRating                    0.004703\n",
       "JobRole_Manufacturing_Director       0.003949\n",
       "JobRole_Human_Resources              0.003245\n",
       "EducationField_Other                 0.003069\n",
       "BusinessTravel_Non-Travel            0.002852\n",
       "JobRole_Research_Director            0.002390\n",
       "Department_Human_Resources           0.001452\n",
       "JobRole_Manager                      0.001286\n",
       "EducationField_Human_Resources       0.000492\n",
       "Over18_Y                             0.000000\n",
       "StandardHours                        0.000000\n",
       "EmployeeCount                        0.000000\n",
       "dtype: float64"
      ]
     },
     "execution_count": 111,
     "metadata": {},
     "output_type": "execute_result"
    }
   ],
   "source": [
    "feature_imp = pd.Series(clf.feature_importances_, index = attr).sort_values(ascending=False)\n",
    "feature_imp"
   ]
  },
  {
   "cell_type": "code",
   "execution_count": 116,
   "metadata": {},
   "outputs": [
    {
     "name": "stdout",
     "output_type": "stream",
     "text": [
      "Random over-sampling:\n",
      "1    1233\n",
      "0    1233\n",
      "Name: Attrition_Yes, dtype: int64\n"
     ]
    }
   ],
   "source": [
    "##Let's see what happens if we use oversampling on the data set.\n",
    "#This will give us a lot more data to work with but since there 5 times as many retention lines as attrition lines,\n",
    "#there is going to be over-representation of the people who quit\n",
    "##Now let's look at oversampling\n",
    "df_class_1_over = df_class_1.sample(count_class_0, replace=True)\n",
    "df_test_over = pd.concat([df_class_0, df_class_1_over], axis=0)\n",
    "\n",
    "print('Random over-sampling:')\n",
    "print(df_test_over.Attrition_Yes.value_counts())"
   ]
  },
  {
   "cell_type": "code",
   "execution_count": 117,
   "metadata": {},
   "outputs": [
    {
     "data": {
      "text/plain": [
       "Index(['Attrition_Yes', 'Age', 'DailyRate', 'DistanceFromHome', 'Education',\n",
       "       'EmployeeCount', 'EmployeeNumber', 'EnvironmentSatisfaction',\n",
       "       'HourlyRate', 'JobInvolvement', 'JobLevel', 'JobSatisfaction',\n",
       "       'MonthlyIncome', 'MonthlyRate', 'NumCompaniesWorked',\n",
       "       'PercentSalaryHike', 'PerformanceRating', 'RelationshipSatisfaction',\n",
       "       'StandardHours', 'StockOptionLevel', 'TotalWorkingYears',\n",
       "       'TrainingTimesLastYear', 'WorkLifeBalance', 'YearsAtCompany',\n",
       "       'YearsInCurrentRole', 'YearsSinceLastPromotion', 'YearsWithCurrManager',\n",
       "       'BusinessTravel_Non-Travel', 'BusinessTravel_Travel_Frequently',\n",
       "       'BusinessTravel_Travel_Rarely', 'Department_Human Resources',\n",
       "       'Department_Research & Development', 'Department_Sales',\n",
       "       'EducationField_Human Resources', 'EducationField_Life Sciences',\n",
       "       'EducationField_Marketing', 'EducationField_Medical',\n",
       "       'EducationField_Other', 'EducationField_Technical Degree',\n",
       "       'Gender_Female', 'Gender_Male', 'JobRole_Healthcare Representative',\n",
       "       'JobRole_Human Resources', 'JobRole_Laboratory Technician',\n",
       "       'JobRole_Manager', 'JobRole_Manufacturing Director',\n",
       "       'JobRole_Research Director', 'JobRole_Research Scientist',\n",
       "       'JobRole_Sales Executive', 'JobRole_Sales Representative',\n",
       "       'MaritalStatus_Divorced', 'MaritalStatus_Married',\n",
       "       'MaritalStatus_Single', 'Over18_Y', 'OverTime_Yes'],\n",
       "      dtype='object')"
      ]
     },
     "execution_count": 117,
     "metadata": {},
     "output_type": "execute_result"
    }
   ],
   "source": [
    "df_test_over.columns"
   ]
  },
  {
   "cell_type": "code",
   "execution_count": 135,
   "metadata": {},
   "outputs": [],
   "source": [
    "y = df_test_over['Attrition_Yes']\n",
    "X = df_test_over[['Age', 'DailyRate', 'DistanceFromHome', 'Education',\n",
    "       'EmployeeCount', 'EmployeeNumber', 'EnvironmentSatisfaction',\n",
    "       'HourlyRate', 'JobInvolvement', 'JobLevel', 'JobSatisfaction',\n",
    "       'MonthlyIncome', 'MonthlyRate', 'NumCompaniesWorked',\n",
    "       'PercentSalaryHike', 'PerformanceRating', 'RelationshipSatisfaction',\n",
    "       'StandardHours', 'StockOptionLevel', 'TotalWorkingYears',\n",
    "       'TrainingTimesLastYear', 'WorkLifeBalance', 'YearsAtCompany',\n",
    "       'YearsInCurrentRole', 'YearsSinceLastPromotion', 'YearsWithCurrManager',\n",
    "       'BusinessTravel_Non-Travel', 'BusinessTravel_Travel_Frequently',\n",
    "       'BusinessTravel_Travel_Rarely', 'Department_Human Resources',\n",
    "       'Department_Research & Development', 'Department_Sales',\n",
    "       'EducationField_Human Resources', 'EducationField_Life Sciences',\n",
    "       'EducationField_Marketing', 'EducationField_Medical',\n",
    "       'EducationField_Other', 'EducationField_Technical Degree',\n",
    "       'Gender_Female', 'Gender_Male', 'JobRole_Healthcare Representative',\n",
    "       'JobRole_Human Resources', 'JobRole_Laboratory Technician',\n",
    "       'JobRole_Manager', 'JobRole_Manufacturing Director',\n",
    "       'JobRole_Research Director', 'JobRole_Research Scientist',\n",
    "       'JobRole_Sales Executive', 'JobRole_Sales Representative',\n",
    "       'MaritalStatus_Divorced', 'MaritalStatus_Married',\n",
    "       'MaritalStatus_Single', 'Over18_Y', 'OverTime_Yes']]"
   ]
  },
  {
   "cell_type": "code",
   "execution_count": 136,
   "metadata": {},
   "outputs": [
    {
     "name": "stdout",
     "output_type": "stream",
     "text": [
      "Accuracy: 1.0\n"
     ]
    }
   ],
   "source": [
    "X_train, X_test, y_train, y_test = train_test_split(X, y, test_size=0.1, random_state=42)\n",
    "clf = RandomForestClassifier(n_estimators = 100)\n",
    "clf.fit(X_train, y_train)\n",
    "y_pred = clf.predict(X_test)\n",
    "print('Accuracy:', metrics.accuracy_score(y_test, y_pred))"
   ]
  },
  {
   "cell_type": "code",
   "execution_count": 137,
   "metadata": {},
   "outputs": [
    {
     "name": "stdout",
     "output_type": "stream",
     "text": [
      "[0.52834008 0.96761134 0.96153846 0.97154472 0.55284553] 0.7963760244889898\n"
     ]
    }
   ],
   "source": [
    "cv5 = cross_val_score(clf, X, y, cv=5)\n",
    "cv5mean = np.mean(cv5)\n",
    "print(cv5, cv5mean)"
   ]
  },
  {
   "cell_type": "code",
   "execution_count": 138,
   "metadata": {},
   "outputs": [
    {
     "name": "stdout",
     "output_type": "stream",
     "text": [
      "Confusion matrix:\n",
      " [[123   0]\n",
      " [  0 124]]\n"
     ]
    },
    {
     "data": {
      "image/png": "[encoded data removed]",
      "text/plain": [
       "<Figure size 432x288 with 2 Axes>"
      ]
     },
     "metadata": {
      "needs_background": "light"
     },
     "output_type": "display_data"
    }
   ],
   "source": [
    "conf_mat = confusion_matrix(y_true=y_test, y_pred=y_pred)\n",
    "print('Confusion matrix:\\n', conf_mat)\n",
    "\n",
    "labels = ['Class 0', 'Class 1']\n",
    "fig = plt.figure()\n",
    "ax = fig.add_subplot(111)\n",
    "cax = ax.matshow(conf_mat, cmap=plt.cm.Blues)\n",
    "fig.colorbar(cax)\n",
    "ax.set_xticklabels([''] + labels)\n",
    "ax.set_yticklabels([''] + labels)\n",
    "plt.xlabel('Predicted')\n",
    "plt.ylabel('Expected')\n",
    "plt.show()"
   ]
  },
  {
   "cell_type": "code",
   "execution_count": null,
   "metadata": {},
   "outputs": [],
   "source": [
    "#Oversampling produced much more accurate results but it's very suspicious that it never guessed wrong\n",
    "#This is most likely because every instance of attrition is repeated 5 times in the data set so the model was\n",
    "#better at memorizing the data than actually using it to make predictions."
   ]
  },
  {
   "cell_type": "code",
   "execution_count": null,
   "metadata": {},
   "outputs": [],
   "source": []
  },
  {
   "cell_type": "code",
   "execution_count": null,
   "metadata": {},
   "outputs": [],
   "source": []
  },
  {
   "cell_type": "code",
   "execution_count": null,
   "metadata": {},
   "outputs": [],
   "source": []
  },
  {
   "cell_type": "code",
   "execution_count": null,
   "metadata": {},
   "outputs": [],
   "source": []
  },
  {
   "cell_type": "code",
   "execution_count": null,
   "metadata": {},
   "outputs": [],
   "source": []
  },
  {
   "cell_type": "code",
   "execution_count": null,
   "metadata": {},
   "outputs": [],
   "source": []
  },
  {
   "cell_type": "code",
   "execution_count": null,
   "metadata": {},
   "outputs": [],
   "source": []
  },
  {
   "cell_type": "code",
   "execution_count": null,
   "metadata": {},
   "outputs": [],
   "source": []
  },
  {
   "cell_type": "code",
   "execution_count": null,
   "metadata": {},
   "outputs": [],
   "source": []
  },
  {
   "cell_type": "code",
   "execution_count": null,
   "metadata": {},
   "outputs": [],
   "source": []
  },
  {
   "cell_type": "code",
   "execution_count": null,
   "metadata": {},
   "outputs": [],
   "source": []
  },
  {
   "cell_type": "code",
   "execution_count": null,
   "metadata": {},
   "outputs": [],
   "source": []
  },
  {
   "cell_type": "code",
   "execution_count": null,
   "metadata": {},
   "outputs": [],
   "source": []
  },
  {
   "cell_type": "code",
   "execution_count": null,
   "metadata": {},
   "outputs": [],
   "source": []
  },
  {
   "cell_type": "code",
   "execution_count": null,
   "metadata": {},
   "outputs": [],
   "source": []
  },
  {
   "cell_type": "code",
   "execution_count": null,
   "metadata": {},
   "outputs": [],
   "source": []
  },
  {
   "cell_type": "code",
   "execution_count": null,
   "metadata": {},
   "outputs": [],
   "source": []
  }
 ],
 "metadata": {
  "kernelspec": {
   "display_name": "Python 3",
   "language": "python",
   "name": "python3"
  },
  "language_info": {
   "codemirror_mode": {
    "name": "ipython",
    "version": 3
   },
   "file_extension": ".py",
   "mimetype": "text/x-python",
   "name": "python",
   "nbconvert_exporter": "python",
   "pygments_lexer": "ipython3",
   "version": "3.7.1"
  }
 },
 "nbformat": 4,
 "nbformat_minor": 2
}
